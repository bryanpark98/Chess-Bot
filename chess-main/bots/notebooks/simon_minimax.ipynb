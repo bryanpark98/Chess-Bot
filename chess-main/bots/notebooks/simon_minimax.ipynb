{
 "cells": [
  {
   "cell_type": "code",
   "execution_count": 9,
   "metadata": {},
   "outputs": [],
   "source": [
    "import chess\n",
    "import numpy as np\n",
    "from chess_bot import ChessBot"
   ]
  },
  {
   "cell_type": "code",
   "execution_count": 86,
   "metadata": {},
   "outputs": [],
   "source": [
    "class SimonMinimax(ChessBot):\n",
    "    def __init__(self):\n",
    "        pass\n",
    "\n",
    "    def train(self):\n",
    "        pass\n",
    "\n",
    "    def act(self, fen):\n",
    "        def score_board(board: chess.Board):\n",
    "            board_value = 0\n",
    "            for piece in board.piece_map().values():\n",
    "                value = 0\n",
    "                if piece.piece_type == 1:\n",
    "                    value = 1\n",
    "                elif piece.piece_type == 2 or piece.piece_type == 3:\n",
    "                    value = 3\n",
    "                elif piece.piece_type == 4:\n",
    "                    value = 5\n",
    "                elif piece.piece_type == 5:\n",
    "                    value = 9\n",
    "                value = value * (-1 if piece.color == chess.BLACK else 1)\n",
    "                board_value += value\n",
    "            return board_value\n",
    "\n",
    "        def minimax(board: chess.Board, depth, maximizing_player):\n",
    "            outcome = board.outcome()\n",
    "            if outcome is not None:\n",
    "                print(outcome.winner)\n",
    "                if (outcome.winner == chess.WHITE):\n",
    "                    return 9999\n",
    "                if (outcome.winner == chess.BLACK):\n",
    "                    return -9999\n",
    "                return 0\n",
    "            if depth == 0:\n",
    "                return score_board(board)\n",
    "\n",
    "            if maximizing_player:\n",
    "                max_value = float(\"-inf\")\n",
    "                for action in board.legal_moves:\n",
    "                    new_board = board.copy(stack=False)\n",
    "                    new_board.push(action)\n",
    "                    value = minimax(new_board, depth - 1, False)\n",
    "                    max_value = max(max_value, value)\n",
    "                return max_value\n",
    "            else:\n",
    "                min_value = float(\"inf\")\n",
    "                for action in board.legal_moves:\n",
    "                    new_board = board.copy(stack=False)\n",
    "                    new_board.push(action)\n",
    "                    value = minimax(new_board, depth - 1, True)\n",
    "                    min_value = min(min_value, value)\n",
    "                return min_value\n",
    "        board = chess.Board(fen)\n",
    "        actions = list(board.legal_moves)\n",
    "        values = []\n",
    "        for action in actions:\n",
    "            new_board = board.copy(stack=False)\n",
    "            new_board.push(action)\n",
    "            values.append(minimax(new_board, 2, board.turn == chess.BLACK))\n",
    "        print(np.stack((values, actions), axis=1))\n",
    "        return str(actions[np.argmax(values)] if board.turn == chess.WHITE else actions[np.argmin(values)])\n"
   ]
  },
  {
   "cell_type": "code",
   "execution_count": 87,
   "metadata": {},
   "outputs": [
    {
     "name": "stdout",
     "output_type": "stream",
     "text": [
      "[[68 Move.from_uci('h5h7')]\n",
      " [65 Move.from_uci('h5h6')]\n",
      " [65 Move.from_uci('h5g5')]\n",
      " [69 Move.from_uci('h5f5')]\n",
      " [65 Move.from_uci('h5e5')]\n",
      " [69 Move.from_uci('h5d5')]\n",
      " [69 Move.from_uci('h5c5')]\n",
      " [69 Move.from_uci('h5b5')]\n",
      " [69 Move.from_uci('h5a5')]\n",
      " [69 Move.from_uci('h5h4')]\n",
      " [69 Move.from_uci('h5h3')]\n",
      " [65 Move.from_uci('h5h2')]\n",
      " [69 Move.from_uci('h5h1')]\n",
      " [65 Move.from_uci('f1g2')]\n",
      " [69 Move.from_uci('b1c3')]\n",
      " [69 Move.from_uci('b1a3')]\n",
      " [64 Move.from_uci('f2f3')]\n",
      " [69 Move.from_uci('e2e3')]\n",
      " [69 Move.from_uci('d2d3')]\n",
      " [69 Move.from_uci('c2c3')]\n",
      " [69 Move.from_uci('b2b3')]\n",
      " [69 Move.from_uci('a2a3')]\n",
      " [64 Move.from_uci('f2f4')]\n",
      " [69 Move.from_uci('e2e4')]\n",
      " [69 Move.from_uci('d2d4')]\n",
      " [69 Move.from_uci('c2c4')]\n",
      " [69 Move.from_uci('b2b4')]\n",
      " [69 Move.from_uci('a2a4')]]\n"
     ]
    },
    {
     "data": {
      "text/plain": [
       "'h5f5'"
      ]
     },
     "execution_count": 87,
     "metadata": {},
     "output_type": "execute_result"
    }
   ],
   "source": [
    "simon = SimonMinimax()\n",
    "simon.act(\"rnbqkb2/pppppp1p/5p2/7R/8/8/PPPPPPr1/RNBQKB2 w Qq - 0 7\")"
   ]
  },
  {
   "cell_type": "code",
   "execution_count": null,
   "metadata": {},
   "outputs": [],
   "source": []
  }
 ],
 "metadata": {
  "kernelspec": {
   "display_name": "Python 3",
   "language": "python",
   "name": "python3"
  },
  "language_info": {
   "codemirror_mode": {
    "name": "ipython",
    "version": 3
   },
   "file_extension": ".py",
   "mimetype": "text/x-python",
   "name": "python",
   "nbconvert_exporter": "python",
   "pygments_lexer": "ipython3",
   "version": "3.11.0"
  },
  "orig_nbformat": 4,
  "vscode": {
   "interpreter": {
    "hash": "3a02eedccb7f29bfd9a0d04d4bf18f3a270edc0eb8d740f6b5fcbdc6a5b93ff7"
   }
  }
 },
 "nbformat": 4,
 "nbformat_minor": 2
}
