{
 "cells": [
  {
   "cell_type": "code",
   "execution_count": 3,
   "metadata": {},
   "outputs": [],
   "source": [
    "import chess\n",
    "import numpy as np\n",
    "from time import sleep\n",
    "from chess_bot import ChessBot"
   ]
  },
  {
   "cell_type": "code",
   "execution_count": 8,
   "metadata": {},
   "outputs": [],
   "source": [
    "class Simon(ChessBot):\n",
    "  def __init__(self):\n",
    "    self.board = chess.Board()\n",
    "    self.V = {}\n",
    "\n",
    "  def train_dp(self, epochs, gamma):\n",
    "    # you could hypothetically perform true dp here\n",
    "    for i in range(epochs):\n",
    "      board = chess.Board()\n",
    "      actions = board.legal_moves\n",
    "      while (len(actions) > 0):\n",
    "        state_values = [self.V[chess.Board().move_stack(action)]\n",
    "                        for action in actions]\n",
    "        greedy_action = np.argmax(state_values)\n",
    "        self.V[board.fen()] = gamma * state_values[greedy_action]\n",
    "        board.move_stack(greedy_action)\n",
    "        if board.is_checkmate():\n",
    "          self.V[board.fen()] = -1 if board.turn() else 1\n",
    "        actions = board.legal_moves\n",
    "  \n",
    "  def train(self):\n",
    "    self.train_dp(10, 0.1, 0.1)\n",
    "  \n",
    "  def act(self, fen):\n",
    "    board = chess.Board(fen)\n",
    "    return np.random.choice(board.legal_moves, 1)[0]"
   ]
  },
  {
   "cell_type": "code",
   "execution_count": 7,
   "metadata": {},
   "outputs": [
    {
     "ename": "TypeError",
     "evalue": "Simon.train_dp() takes 3 positional arguments but 4 were given",
     "output_type": "error",
     "traceback": [
      "\u001b[0;31m---------------------------------------------------------------------------\u001b[0m",
      "\u001b[0;31mTypeError\u001b[0m                                 Traceback (most recent call last)",
      "Cell \u001b[0;32mIn[7], line 2\u001b[0m\n\u001b[1;32m      1\u001b[0m simon \u001b[39m=\u001b[39m Simon()\n\u001b[0;32m----> 2\u001b[0m simon\u001b[39m.\u001b[39;49mtrain()\n",
      "Cell \u001b[0;32mIn[5], line 22\u001b[0m, in \u001b[0;36mSimon.train\u001b[0;34m(self)\u001b[0m\n\u001b[1;32m     21\u001b[0m \u001b[39mdef\u001b[39;00m \u001b[39mtrain\u001b[39m(\u001b[39mself\u001b[39m):\n\u001b[0;32m---> 22\u001b[0m   \u001b[39mself\u001b[39;49m\u001b[39m.\u001b[39;49mtrain_dp(\u001b[39m10\u001b[39;49m, \u001b[39m0.1\u001b[39;49m, \u001b[39m0.1\u001b[39;49m)\n",
      "\u001b[0;31mTypeError\u001b[0m: Simon.train_dp() takes 3 positional arguments but 4 were given"
     ]
    }
   ],
   "source": [
    "simon = Simon()"
   ]
  },
  {
   "cell_type": "code",
   "execution_count": null,
   "metadata": {},
   "outputs": [],
   "source": []
  }
 ],
 "metadata": {
  "kernelspec": {
   "display_name": "Python 3",
   "language": "python",
   "name": "python3"
  },
  "language_info": {
   "codemirror_mode": {
    "name": "ipython",
    "version": 3
   },
   "file_extension": ".py",
   "mimetype": "text/x-python",
   "name": "python",
   "nbconvert_exporter": "python",
   "pygments_lexer": "ipython3",
   "version": "3.11.0"
  },
  "orig_nbformat": 4,
  "vscode": {
   "interpreter": {
    "hash": "3a02eedccb7f29bfd9a0d04d4bf18f3a270edc0eb8d740f6b5fcbdc6a5b93ff7"
   }
  }
 },
 "nbformat": 4,
 "nbformat_minor": 2
}
